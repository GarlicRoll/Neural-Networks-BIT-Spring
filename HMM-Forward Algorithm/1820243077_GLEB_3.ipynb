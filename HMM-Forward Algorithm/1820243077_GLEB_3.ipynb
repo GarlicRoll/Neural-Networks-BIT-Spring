{
 "cells": [
  {
   "cell_type": "markdown",
   "source": [
    "# Gleb Pimenov 1820243077"
   ],
   "metadata": {
    "collapsed": false
   },
   "id": "4e1a616f58b97625"
  },
  {
   "cell_type": "markdown",
   "source": [
    "# HMM-Forward Algorithm\n",
    "1. Compute the probability of the sequence TAGA (see the slides) with the Forward algorithm.\n",
    "2. Write codes to implement the Forward algorithm, and then finish the first problem with thecodes.\n",
    "3. Upload the report and codes based on the above two."
   ],
   "metadata": {
    "collapsed": false
   },
   "id": "c760615aac859280"
  },
  {
   "cell_type": "markdown",
   "source": [
    "# Define transition probabilities"
   ],
   "metadata": {
    "collapsed": false
   },
   "id": "21d508239a19d609"
  },
  {
   "cell_type": "code",
   "outputs": [],
   "source": [
    "transition_probs = [\n",
    "    [0.0, 0.5, 0.5, 0.0, 0.0, 0.0],  # From state 0\n",
    "    [0.0, 0.2, 0.0, 0.8, 0.0, 0.0],  # From state 1\n",
    "    [0.0, 0.0, 0.8, 0.0, 0.2, 0.0],  # From state 2\n",
    "    [0.0, 0.0, 0.0, 0.4, 0.0, 0.6],  # From state 3\n",
    "    [0.0, 0.0, 0.0, 0.0, 0.1, 0.9],  # From state 4\n",
    "    [0.0, 0.0, 0.0, 0.0, 0.0, 0.0],  # From state 5 (ending state)\n",
    "]"
   ],
   "metadata": {
    "collapsed": false,
    "ExecuteTime": {
     "end_time": "2024-04-02T06:36:30.227808800Z",
     "start_time": "2024-04-02T06:36:30.203611Z"
    }
   },
   "id": "d6b66a5d2dfe619",
   "execution_count": 174
  },
  {
   "cell_type": "markdown",
   "source": [
    "# Define emission probabilities"
   ],
   "metadata": {
    "collapsed": false
   },
   "id": "42de5d9b5000dfdb"
  },
  {
   "cell_type": "code",
   "outputs": [],
   "source": [
    "emission_probs = [\n",
    "    {'T': 0.0, 'A': 0.0, 'G': 0.0, 'C': 0.0},  # State 0 (starting state)\n",
    "    {'T': 0.3, 'A': 0.4, 'G': 0.2, 'C': 0.1},  # State 1\n",
    "    {'T': 0.4, 'A': 0.4, 'G': 0.1, 'C': 0.1},  # State 2\n",
    "    {'T': 0.2, 'A': 0.2, 'G': 0.3, 'C': 0.3},  # State 3\n",
    "    {'T': 0.1, 'A': 0.1, 'G': 0.4, 'C': 0.4},  # State 4\n",
    "    {'T': 0.0, 'A': 0.0, 'G': 0.0, 'C': 0.0},  # State 5 (ending state)\n",
    "]"
   ],
   "metadata": {
    "collapsed": false,
    "ExecuteTime": {
     "end_time": "2024-04-02T06:36:30.228750800Z",
     "start_time": "2024-04-02T06:36:30.215182200Z"
    }
   },
   "id": "1ab39912bcf7c0ba",
   "execution_count": 175
  },
  {
   "cell_type": "markdown",
   "source": [
    "# Define the sequence"
   ],
   "metadata": {
    "collapsed": false
   },
   "id": "f6217d8040724a02"
  },
  {
   "cell_type": "code",
   "outputs": [],
   "source": [
    "sequence = ['T', 'A', 'G', 'A']  # TAGA"
   ],
   "metadata": {
    "collapsed": false,
    "ExecuteTime": {
     "end_time": "2024-04-02T06:36:30.267170700Z",
     "start_time": "2024-04-02T06:36:30.234513800Z"
    }
   },
   "id": "99bb4e186bfcb0ce",
   "execution_count": 176
  },
  {
   "cell_type": "markdown",
   "source": [
    "# Compute the probability of the sequence using the Forward algorithm"
   ],
   "metadata": {
    "collapsed": false
   },
   "id": "175ff7662a9597c8"
  },
  {
   "cell_type": "markdown",
   "source": [
    "Code takes transition probabilities, emission probabilities, initial probabilities, and a sequence of observations as input, and computes the total probability of the sequence using the Forward algorithm"
   ],
   "metadata": {
    "collapsed": false
   },
   "id": "c9ced919d237c50a"
  },
  {
   "cell_type": "code",
   "outputs": [],
   "source": [
    "num_states = len(transition_probs)\n",
    "num_obs = len(sequence)\n",
    "forward_matrix = [[None] * num_states for _ in range(num_obs + 1)]"
   ],
   "metadata": {
    "collapsed": false,
    "ExecuteTime": {
     "end_time": "2024-04-02T06:36:30.274751700Z",
     "start_time": "2024-04-02T06:36:30.237685200Z"
    }
   },
   "id": "92a0bf50baa4a1e3",
   "execution_count": 177
  },
  {
   "cell_type": "markdown",
   "source": [
    "Initialize first row of forward matrix using initial probabilities and emission probabilities"
   ],
   "metadata": {
    "collapsed": false
   },
   "id": "edfc070428920691"
  },
  {
   "cell_type": "code",
   "outputs": [],
   "source": [
    "for state in range(num_states):\n",
    "    # Initial state has probability 1, others 0\n",
    "    if state == 0:\n",
    "        forward_matrix[0][state] = 1.0\n",
    "    else:\n",
    "        forward_matrix[0][state] = 0.0"
   ],
   "metadata": {
    "collapsed": false,
    "ExecuteTime": {
     "end_time": "2024-04-02T06:36:30.275749500Z",
     "start_time": "2024-04-02T06:36:30.246086600Z"
    }
   },
   "id": "d3fec4165bdafda7",
   "execution_count": 178
  },
  {
   "cell_type": "markdown",
   "source": [
    "Recursively compute forward probabilities for each position in the sequence"
   ],
   "metadata": {
    "collapsed": false
   },
   "id": "15b3f9822f293e3c"
  },
  {
   "cell_type": "code",
   "outputs": [],
   "source": [
    "for t in range(1, num_obs + 1):\n",
    "    for j in range(num_states):\n",
    "        # Compute the sum of probabilities from all previous states to the current state\n",
    "        prob_sum = sum(forward_matrix[t - 1][i] * transition_probs[i][j] for i in range(num_states))\n",
    "        forward_matrix[t][j] = prob_sum * emission_probs[j][sequence[t - 1]]\n",
    "        # Using special \"if\" because fifth state is the end state without new letters\n",
    "        if t == 4 and j == 5:\n",
    "            forward_matrix[t][j] = sum(forward_matrix[t][i] * transition_probs[i][j] for i in range(num_states))"
   ],
   "metadata": {
    "collapsed": false,
    "ExecuteTime": {
     "end_time": "2024-04-02T06:36:30.275749500Z",
     "start_time": "2024-04-02T06:36:30.254261500Z"
    }
   },
   "id": "f59929d6240120bb",
   "execution_count": 179
  },
  {
   "cell_type": "markdown",
   "source": [
    "Get the probability of the sequence by taking number from end state"
   ],
   "metadata": {
    "collapsed": false
   },
   "id": "656069c038cb20dc"
  },
  {
   "cell_type": "code",
   "outputs": [],
   "source": [
    "total_prob = forward_matrix[4][5]"
   ],
   "metadata": {
    "collapsed": false,
    "ExecuteTime": {
     "end_time": "2024-04-02T06:36:30.275749500Z",
     "start_time": "2024-04-02T06:36:30.257336200Z"
    }
   },
   "id": "8ca37a2d0b076ec",
   "execution_count": 180
  },
  {
   "cell_type": "code",
   "outputs": [
    {
     "name": "stdout",
     "output_type": "stream",
     "text": [
      "Probability of sequence TAGA: 0.00046224\n"
     ]
    }
   ],
   "source": [
    "print(f\"Probability of sequence TAGA: {\"{:.8f}\".format(total_prob)}\") "
   ],
   "metadata": {
    "collapsed": true,
    "ExecuteTime": {
     "end_time": "2024-04-02T06:36:50.296905300Z",
     "start_time": "2024-04-02T06:36:50.292088200Z"
    }
   },
   "id": "initial_id",
   "execution_count": 185
  }
 ],
 "metadata": {
  "kernelspec": {
   "display_name": "Python 3",
   "language": "python",
   "name": "python3"
  },
  "language_info": {
   "codemirror_mode": {
    "name": "ipython",
    "version": 2
   },
   "file_extension": ".py",
   "mimetype": "text/x-python",
   "name": "python",
   "nbconvert_exporter": "python",
   "pygments_lexer": "ipython2",
   "version": "2.7.6"
  }
 },
 "nbformat": 4,
 "nbformat_minor": 5
}
